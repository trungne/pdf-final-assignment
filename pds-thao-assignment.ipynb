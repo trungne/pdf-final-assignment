{
 "cells": [
  {
   "cell_type": "markdown",
   "metadata": {},
   "source": [
    "Problem type: [Online Retail II Dataset](https://archive.ics.uci.edu/ml/datasets/Online+Retail+II)"
   ]
  },
  {
   "cell_type": "markdown",
   "metadata": {
    "execution": {
     "iopub.execute_input": "2022-12-31T03:13:12.196913Z",
     "iopub.status.busy": "2022-12-31T03:13:12.196211Z",
     "iopub.status.idle": "2022-12-31T03:13:12.225729Z",
     "shell.execute_reply": "2022-12-31T03:13:12.224216Z",
     "shell.execute_reply.started": "2022-12-31T03:13:12.196785Z"
    }
   },
   "source": [
    "Deadline: 17th Jan\n",
    "Soft Deadline: 14th Jan\n",
    "\n",
    "Task 1: Retrieving and Preparing the Data\n",
    "- The  goal of the project: order cancellation\n",
    "- Pre-process data: data cleaning\n",
    "    - Missing values\n",
    "    - Correct data type\n",
    "- Create \"OrderCancelled\" column from \"InvoiceNo\"\n",
    "\n",
    "(Trung)\n",
    "- InvoiceNo: Invoice number. Nominal. A 6-digit integral number uniquely assigned to each transaction. If this code starts with the letter 'c', it indicates a cancellation.\n",
    "- StockCode: Product (item) code. Nominal. A 5-digit integral number uniquely assigned to each distinct product.\n",
    "- OrderCancelled\n",
    "\n",
    "(Thao)\n",
    "- Description: Product (item) name. Nominal.\n",
    "- Quantity: The quantities of each product (item) per transaction. Numeric.\n",
    "- InvoiceDate: Invice date and time. Numeric. The day and time when a transaction was generated.\n",
    "\n",
    "(Hoang)\n",
    "- UnitPrice: Unit price. Numeric. Product price per unit in sterling (Â£).\n",
    "- CustomerID: Customer number. Nominal. A 5-digit integral number uniquely assigned to each customer.\n",
    "- Country: Country name. Nominal. The name of the country where a customer resides.\n",
    "\n",
    "\n",
    "(Trung) select based on ALL data\n",
    "\n",
    "Task 2: Feature Engineering \n",
    "- Select relevant columns: use corr() => select all columns with high correlation\n",
    "Note: These steps must be performed consistently for train/val/test sets.\n",
    "\n",
    "Task 3: Data Modelling\n",
    "- Model the data by treating it as Clustering AND Classification Task\n",
    "\n",
    "Qs:\n",
    "- \"These steps must be performed consistently for train/val/test sets\" => when do split data?\n",
    "- \"You must use at least two different models for each approach\" => confirm select 2 approaches?\n",
    "\n",
    "Task 4: Report:\n",
    "\n",
    "Create PDF: https://docs.google.com/document/d/1Xp_-m0HaH1vw3eBdGQDE0IwwjcMSG8yXpYFJeAdOhV8/edit\n",
    "\n",
    "Task 5: Presentation\n",
    "\n",
    "prepare 10-12 slides for in-class presentation anddemonstration.\n"
   ]
  },
  {
   "cell_type": "markdown",
   "metadata": {},
   "source": [
    "Phase 1: Task 1 + Task 2 (for all data set) (Deadline: 5th Jan)\n",
    "\n",
    "Phase 2: Data modelling (5th -> 12th Jan)\n",
    "\n",
    "Phase 3: Report + Presentation slides (12th -> 14th Jan)"
   ]
  },
  {
   "cell_type": "markdown",
   "metadata": {},
   "source": [
    "## Task 1: Retrieving and Understanding Data"
   ]
  },
  {
   "cell_type": "code",
   "execution_count": null,
   "metadata": {
    "_cell_guid": "b1076dfc-b9ad-4769-8c92-a6c4dae69d19",
    "_uuid": "8f2839f25d086af736a60e9eeb907d3b93b6e0e5"
   },
   "outputs": [],
   "source": [
    "# This Python 3 environment comes with many helpful analytics libraries installed\n",
    "# It is defined by the kaggle/python Docker image: https://github.com/kaggle/docker-python\n",
    "# For example, here's several helpful packages to load\n",
    "\n",
    "import numpy as np # linear algebra\n",
    "import pandas as pd # data processing, CSV file I/O (e.g. pd.read_csv)\n",
    "\n",
    "# Input data files are available in the read-only \"../input/\" directory\n",
    "# For example, running this (by clicking run or pressing Shift+Enter) will list all files under the input directory\n",
    "\n",
    "import os\n",
    "for dirname, _, filenames in os.walk('/kaggle/input'):\n",
    "    for filename in filenames:\n",
    "        print(os.path.join(dirname, filename))\n",
    "\n",
    "# You can write up to 20GB to the current directory (/kaggle/working/) that gets preserved as output when you create a version using \"Save & Run All\" \n",
    "# You can also write temporary files to /kaggle/temp/, but they won't be saved outside of the current session"
   ]
  },
  {
   "cell_type": "code",
   "execution_count": null,
   "metadata": {},
   "outputs": [],
   "source": [
    "# TODO: change file path to the correct one on your computer\n",
    "file_path = \"/kaggle/input/online-retail-iixlsx/online_retail_II.xlsx\"\n",
    "\n",
    "df = pd.read_excel(file_path)"
   ]
  },
  {
   "cell_type": "markdown",
   "metadata": {},
   "source": [
    "**Attribute Information**\n",
    "\n",
    "* **`Invoice`**: Invoice number. Nominal. A 6-digit integral number uniquely assigned to each transaction. If this code starts with the letter 'c', it indicates a cancellation.\n",
    "* **`StockCode`**: Product (item) code. Nominal. A 5-digit integral number uniquely assigned to each distinct product.\n",
    "* **`Description`** : Product (item) name. Nominal.\n",
    "* **`Quantity`**: The quantities of each product (item) per transaction. Numeric.\n",
    "* **`InvoiceDate`**: Invice date and time. Numeric. The day and time when a transaction was generated.\n",
    "* **`Price`**: Unit price. Numeric. Product price per unit in sterling (£).\n",
    "* **`Customer ID`**: Customer number. Nominal. A 5-digit integral number uniquely assigned to each customer.\n",
    "* **`Country`**: Country name. Nominal. The name of the country where a customer resides."
   ]
  },
  {
   "cell_type": "markdown",
   "metadata": {
    "execution": {
     "iopub.execute_input": "2023-01-02T04:31:57.220297Z",
     "iopub.status.busy": "2023-01-02T04:31:57.219887Z",
     "iopub.status.idle": "2023-01-02T04:31:57.227112Z",
     "shell.execute_reply": "2023-01-02T04:31:57.225599Z",
     "shell.execute_reply.started": "2023-01-02T04:31:57.220265Z"
    }
   },
   "source": [
    "**Data Shape**"
   ]
  },
  {
   "cell_type": "code",
   "execution_count": null,
   "metadata": {},
   "outputs": [],
   "source": [
    "len(df)"
   ]
  },
  {
   "cell_type": "code",
   "execution_count": null,
   "metadata": {},
   "outputs": [],
   "source": [
    "df.info()"
   ]
  },
  {
   "cell_type": "markdown",
   "metadata": {},
   "source": [
    "## Data Cleaning\n",
    "**Missing values**"
   ]
  },
  {
   "cell_type": "code",
   "execution_count": null,
   "metadata": {},
   "outputs": [],
   "source": [
    "df.isnull().any()"
   ]
  },
  {
   "cell_type": "code",
   "execution_count": null,
   "metadata": {},
   "outputs": [],
   "source": [
    "print('Number of invoices for cancelation that also have negative quantity',\n",
    "      df.loc[(df['Invoice'].str.contains('C', na = False)) & (df['Price'] < 0)].shape[0])"
   ]
  },
  {
   "cell_type": "markdown",
   "metadata": {},
   "source": [
    "Dataset has 525461 rows and 8 columns, with missing values in **Customer ID** and **Description** columns."
   ]
  },
  {
   "cell_type": "code",
   "execution_count": null,
   "metadata": {},
   "outputs": [],
   "source": [
    "df.isnull().sum()"
   ]
  },
  {
   "cell_type": "markdown",
   "metadata": {},
   "source": [
    "In specific, the **Description** column has 2928 missing values while **CustomerID** column has 107927 null values. "
   ]
  },
  {
   "cell_type": "code",
   "execution_count": null,
   "metadata": {},
   "outputs": [],
   "source": [
    "df.duplicated().sum()"
   ]
  },
  {
   "cell_type": "code",
   "execution_count": null,
   "metadata": {},
   "outputs": [],
   "source": [
    "df[df[\"Invoice\"].str.contains(\"C\", na=False)]"
   ]
  },
  {
   "cell_type": "code",
   "execution_count": null,
   "metadata": {},
   "outputs": [],
   "source": [
    "# Add new column: OrderCancelled\n",
    "def map_order_cancelled(row):\n",
    "    if row == None:\n",
    "        return None\n",
    "    \n",
    "    if not isinstance(row, str):\n",
    "        return row\n",
    "    \n",
    "    return 1 if \"C\" in str(row).upper() else 0\n",
    "\n",
    "df[\"OrderCancelled\"] = df[\"Invoice\"].map(map_order_cancelled)\n"
   ]
  },
  {
   "cell_type": "markdown",
   "metadata": {},
   "source": [
    "**Description:**\n"
   ]
  },
  {
   "cell_type": "code",
   "execution_count": null,
   "metadata": {},
   "outputs": [],
   "source": [
    "df[df[\"Description\"].isnull() == True]"
   ]
  },
  {
   "cell_type": "markdown",
   "metadata": {},
   "source": [
    "Those columns having null values in **Description, Customer ID** and **Price** equals 0 are dropped because they are considered failed transaction"
   ]
  },
  {
   "cell_type": "code",
   "execution_count": null,
   "metadata": {},
   "outputs": [],
   "source": [
    "# Drop failed transactions\n",
    "idx = df[(df['Description'].isnull()) & (df['Customer ID'].isnull()) & (df['Price']==0)].index.values\n",
    "df.drop(idx, inplace=True)"
   ]
  },
  {
   "cell_type": "code",
   "execution_count": null,
   "metadata": {},
   "outputs": [],
   "source": [
    "# Check the missing values\n",
    "print(df.isnull().sum(),\"are dropped\")"
   ]
  },
  {
   "cell_type": "markdown",
   "metadata": {},
   "source": [
    "**Quantity:**\n",
    "The quantity column not only displays the quantity of items purchased, but it also displays the amount of cancelled/returned items by encoding the cancelled transactions as negative. Each of these cancelled transactions is associated with the Invoice Number. However, there is only 1 instance whose invoice starts with C but the Quantity is positive (1)."
   ]
  },
  {
   "cell_type": "code",
   "execution_count": null,
   "metadata": {},
   "outputs": [],
   "source": [
    "print('The number of entries with negative quantity', df[(df['Quantity'] < 0)].shape[0])"
   ]
  },
  {
   "cell_type": "code",
   "execution_count": null,
   "metadata": {},
   "outputs": [],
   "source": [
    "print('Number of invoices for cancelation that also have negative quantity',\n",
    "      df.loc[(df['Invoice'].str.contains('C', na = False)) & (df['Quantity'] < 0)].shape[0])"
   ]
  },
  {
   "cell_type": "code",
   "execution_count": null,
   "metadata": {},
   "outputs": [],
   "source": [
    "df.loc[(df['Invoice'].str.contains('C', na = False)) & (df['Quantity'] < 0)]"
   ]
  },
  {
   "cell_type": "code",
   "execution_count": null,
   "metadata": {},
   "outputs": [],
   "source": [
    "df.loc[(df['Invoice'].str.contains('C', na = False)) & (df['Quantity'] >= 0)]"
   ]
  },
  {
   "cell_type": "code",
   "execution_count": null,
   "metadata": {},
   "outputs": [],
   "source": [
    "import matplotlib.pyplot as plt\n",
    "\n",
    "df[[\"Price\",\"Quantity\"]].plot(kind=\"box\")"
   ]
  },
  {
   "cell_type": "markdown",
   "metadata": {},
   "source": [
    "**InvoiceDate**"
   ]
  },
  {
   "cell_type": "code",
   "execution_count": null,
   "metadata": {},
   "outputs": [],
   "source": [
    "max_invoice_date = df['InvoiceDate'].max()\n",
    "min_invoice_date = df['InvoiceDate'].min()\n",
    "date_fmt = '%Y-%m-%d'\n",
    "print('The data ranges from {} to {}'.format(min_invoice_date.strftime(date_fmt), \n",
    "                                             max_invoice_date.strftime(date_fmt) \n",
    "                                            )\n",
    "     )"
   ]
  },
  {
   "cell_type": "code",
   "execution_count": null,
   "metadata": {},
   "outputs": [],
   "source": [
    "duplicated = df[df.duplicated(keep = False)].sort_values(by = ['InvoiceDate','Invoice','StockCode'])\n",
    "duplicated"
   ]
  }
 ],
 "metadata": {
  "kernelspec": {
   "display_name": "Python 3 (ipykernel)",
   "language": "python",
   "name": "python3"
  },
  "language_info": {
   "codemirror_mode": {
    "name": "ipython",
    "version": 3
   },
   "file_extension": ".py",
   "mimetype": "text/x-python",
   "name": "python",
   "nbconvert_exporter": "python",
   "pygments_lexer": "ipython3",
   "version": "3.8.0"
  }
 },
 "nbformat": 4,
 "nbformat_minor": 4
}
