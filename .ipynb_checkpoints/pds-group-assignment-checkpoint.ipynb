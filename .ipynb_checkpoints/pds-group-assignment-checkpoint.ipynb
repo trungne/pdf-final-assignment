{
 "cells": [
  {
   "cell_type": "markdown",
   "metadata": {},
   "source": [
    "Problem type: [Online Retail II Dataset](https://archive.ics.uci.edu/ml/datasets/Online+Retail+II)"
   ]
  },
  {
   "cell_type": "markdown",
   "metadata": {},
   "source": [
    "# Task 1: Retrieving and Preparing the Data"
   ]
  },
  {
   "cell_type": "code",
   "execution_count": 93,
   "metadata": {
    "execution": {
     "iopub.execute_input": "2023-01-05T08:33:27.210327Z",
     "iopub.status.busy": "2023-01-05T08:33:27.209878Z",
     "iopub.status.idle": "2023-01-05T08:33:27.219539Z",
     "shell.execute_reply": "2023-01-05T08:33:27.218574Z",
     "shell.execute_reply.started": "2023-01-05T08:33:27.210287Z"
    }
   },
   "outputs": [],
   "source": [
    "import datetime as dt\n",
    "\n",
    "# Importing packages - Pandas, Numpy, Seaborn, Scipy\n",
    "import pandas as pd, numpy as np, matplotlib.pyplot as plt, seaborn as sns, sys\n",
    "import matplotlib.style as style; style.use('fivethirtyeight')\n",
    "from scipy.stats import zscore, norm\n",
    "\n",
    "np.random.seed(0)\n",
    "\n",
    "# Modelling - LR, KNN, NB, Metrics\n",
    "from sklearn.metrics import classification_report, confusion_matrix, roc_auc_score, roc_curve, accuracy_score\n",
    "from sklearn.model_selection import train_test_split, GridSearchCV, StratifiedKFold\n",
    "from sklearn.linear_model import LogisticRegression\n",
    "from sklearn.neighbors import KNeighborsClassifier\n",
    "\n",
    "# Oversampling\n",
    "from imblearn.over_sampling import SMOTE\n",
    "\n",
    "# Suppress warnings\n",
    "import warnings; warnings.filterwarnings('ignore')\n",
    "pd.options.display.max_rows = 4000"
   ]
  },
  {
   "cell_type": "code",
   "execution_count": 94,
   "metadata": {
    "execution": {
     "iopub.execute_input": "2023-01-05T08:33:27.222079Z",
     "iopub.status.busy": "2023-01-05T08:33:27.221731Z",
     "iopub.status.idle": "2023-01-05T08:34:36.183654Z",
     "shell.execute_reply": "2023-01-05T08:34:36.182653Z",
     "shell.execute_reply.started": "2023-01-05T08:33:27.222047Z"
    }
   },
   "outputs": [],
   "source": [
    "# TODO: change file path to the correct one on your computer\n",
    "file_path = \"/kaggle/input/online-retail/online_retail_II.xlsx\"\n",
    "df = pd.read_excel(file_path)"
   ]
  },
  {
   "cell_type": "markdown",
   "metadata": {},
   "source": [
    "## Attribute Information\n",
    "\n",
    "* **`Invoice`**: Invoice number. Nominal. A 6-digit integral number uniquely assigned to each transaction. If this code starts with the letter 'c', it indicates a cancellation.\n",
    "* **`StockCode`**: Product (item) code. Nominal. A 5-digit integral number uniquely assigned to each distinct product.\n",
    "* **`Description`** : Product (item) name. Nominal.\n",
    "* **`Quantity`**: The quantities of each product (item) per transaction. Numeric.\n",
    "* **`InvoiceDate`**: Invice date and time. Numeric. The day and time when a transaction was generated.\n",
    "* **`Price`**: Unit price. Numeric. Product price per unit in sterling (£).\n",
    "* **`Customer ID`**: Customer number. Nominal. A 5-digit integral number uniquely assigned to each customer.\n",
    "* **`Country`**: Country name. Nominal. The name of the country where a customer resides."
   ]
  },
  {
   "cell_type": "markdown",
   "metadata": {
    "execution": {
     "iopub.execute_input": "2023-01-02T04:31:57.220297Z",
     "iopub.status.busy": "2023-01-02T04:31:57.219887Z",
     "iopub.status.idle": "2023-01-02T04:31:57.227112Z",
     "shell.execute_reply": "2023-01-02T04:31:57.225599Z",
     "shell.execute_reply.started": "2023-01-02T04:31:57.220265Z"
    }
   },
   "source": [
    "## Data Shape"
   ]
  },
  {
   "cell_type": "code",
   "execution_count": 95,
   "metadata": {
    "execution": {
     "iopub.execute_input": "2023-01-05T08:34:36.185419Z",
     "iopub.status.busy": "2023-01-05T08:34:36.184988Z",
     "iopub.status.idle": "2023-01-05T08:34:36.297593Z",
     "shell.execute_reply": "2023-01-05T08:34:36.296405Z",
     "shell.execute_reply.started": "2023-01-05T08:34:36.185359Z"
    }
   },
   "outputs": [
    {
     "name": "stdout",
     "output_type": "stream",
     "text": [
      "<class 'pandas.core.frame.DataFrame'>\n",
      "RangeIndex: 525461 entries, 0 to 525460\n",
      "Data columns (total 8 columns):\n",
      " #   Column       Non-Null Count   Dtype         \n",
      "---  ------       --------------   -----         \n",
      " 0   Invoice      525461 non-null  object        \n",
      " 1   StockCode    525461 non-null  object        \n",
      " 2   Description  522533 non-null  object        \n",
      " 3   Quantity     525461 non-null  int64         \n",
      " 4   InvoiceDate  525461 non-null  datetime64[ns]\n",
      " 5   Price        525461 non-null  float64       \n",
      " 6   Customer ID  417534 non-null  float64       \n",
      " 7   Country      525461 non-null  object        \n",
      "dtypes: datetime64[ns](1), float64(2), int64(1), object(4)\n",
      "memory usage: 32.1+ MB\n"
     ]
    }
   ],
   "source": [
    "df.info()"
   ]
  },
  {
   "cell_type": "code",
   "execution_count": 96,
   "metadata": {
    "execution": {
     "iopub.execute_input": "2023-01-05T08:34:36.300348Z",
     "iopub.status.busy": "2023-01-05T08:34:36.300009Z",
     "iopub.status.idle": "2023-01-05T08:34:36.401528Z",
     "shell.execute_reply": "2023-01-05T08:34:36.400435Z",
     "shell.execute_reply.started": "2023-01-05T08:34:36.300317Z"
    }
   },
   "outputs": [
    {
     "data": {
      "text/plain": [
       "Invoice        False\n",
       "StockCode      False\n",
       "Description     True\n",
       "Quantity       False\n",
       "InvoiceDate    False\n",
       "Price          False\n",
       "Customer ID     True\n",
       "Country        False\n",
       "dtype: bool"
      ]
     },
     "execution_count": 96,
     "metadata": {},
     "output_type": "execute_result"
    }
   ],
   "source": [
    "df.isnull().any()"
   ]
  },
  {
   "cell_type": "markdown",
   "metadata": {},
   "source": [
    "Dataset has 525461 rows and 8 columns, with missing values in **Customer ID** and **Description** columns."
   ]
  },
  {
   "cell_type": "code",
   "execution_count": 97,
   "metadata": {
    "execution": {
     "iopub.execute_input": "2023-01-05T08:34:36.403573Z",
     "iopub.status.busy": "2023-01-05T08:34:36.403243Z",
     "iopub.status.idle": "2023-01-05T08:34:36.514301Z",
     "shell.execute_reply": "2023-01-05T08:34:36.513086Z",
     "shell.execute_reply.started": "2023-01-05T08:34:36.403546Z"
    }
   },
   "outputs": [
    {
     "data": {
      "text/plain": [
       "Invoice             0\n",
       "StockCode           0\n",
       "Description      2928\n",
       "Quantity            0\n",
       "InvoiceDate         0\n",
       "Price               0\n",
       "Customer ID    107927\n",
       "Country             0\n",
       "dtype: int64"
      ]
     },
     "execution_count": 97,
     "metadata": {},
     "output_type": "execute_result"
    }
   ],
   "source": [
    "df.isnull().sum()"
   ]
  },
  {
   "cell_type": "markdown",
   "metadata": {},
   "source": [
    "df.isnull().sum()\n"
   ]
  },
  {
   "cell_type": "markdown",
   "metadata": {},
   "source": [
    "In specific, the **Description** column has 2928 missing values while **CustomerID** column has 107927 null values."
   ]
  },
  {
   "cell_type": "code",
   "execution_count": 98,
   "metadata": {
    "execution": {
     "iopub.execute_input": "2023-01-05T08:34:36.516055Z",
     "iopub.status.busy": "2023-01-05T08:34:36.515743Z",
     "iopub.status.idle": "2023-01-05T08:34:36.556145Z",
     "shell.execute_reply": "2023-01-05T08:34:36.555265Z",
     "shell.execute_reply.started": "2023-01-05T08:34:36.516027Z"
    }
   },
   "outputs": [
    {
     "data": {
      "text/html": [
       "<div>\n",
       "<style scoped>\n",
       "    .dataframe tbody tr th:only-of-type {\n",
       "        vertical-align: middle;\n",
       "    }\n",
       "\n",
       "    .dataframe tbody tr th {\n",
       "        vertical-align: top;\n",
       "    }\n",
       "\n",
       "    .dataframe thead th {\n",
       "        text-align: right;\n",
       "    }\n",
       "</style>\n",
       "<table border=\"1\" class=\"dataframe\">\n",
       "  <thead>\n",
       "    <tr style=\"text-align: right;\">\n",
       "      <th></th>\n",
       "      <th>Invoice</th>\n",
       "      <th>StockCode</th>\n",
       "      <th>Description</th>\n",
       "      <th>Quantity</th>\n",
       "      <th>InvoiceDate</th>\n",
       "      <th>Price</th>\n",
       "      <th>Customer ID</th>\n",
       "      <th>Country</th>\n",
       "    </tr>\n",
       "  </thead>\n",
       "  <tbody>\n",
       "    <tr>\n",
       "      <th>470</th>\n",
       "      <td>489521</td>\n",
       "      <td>21646</td>\n",
       "      <td>NaN</td>\n",
       "      <td>-50</td>\n",
       "      <td>2009-12-01 11:44:00</td>\n",
       "      <td>0.0</td>\n",
       "      <td>NaN</td>\n",
       "      <td>United Kingdom</td>\n",
       "    </tr>\n",
       "    <tr>\n",
       "      <th>3114</th>\n",
       "      <td>489655</td>\n",
       "      <td>20683</td>\n",
       "      <td>NaN</td>\n",
       "      <td>-44</td>\n",
       "      <td>2009-12-01 17:26:00</td>\n",
       "      <td>0.0</td>\n",
       "      <td>NaN</td>\n",
       "      <td>United Kingdom</td>\n",
       "    </tr>\n",
       "    <tr>\n",
       "      <th>3161</th>\n",
       "      <td>489659</td>\n",
       "      <td>21350</td>\n",
       "      <td>NaN</td>\n",
       "      <td>230</td>\n",
       "      <td>2009-12-01 17:39:00</td>\n",
       "      <td>0.0</td>\n",
       "      <td>NaN</td>\n",
       "      <td>United Kingdom</td>\n",
       "    </tr>\n",
       "    <tr>\n",
       "      <th>3731</th>\n",
       "      <td>489781</td>\n",
       "      <td>84292</td>\n",
       "      <td>NaN</td>\n",
       "      <td>17</td>\n",
       "      <td>2009-12-02 11:45:00</td>\n",
       "      <td>0.0</td>\n",
       "      <td>NaN</td>\n",
       "      <td>United Kingdom</td>\n",
       "    </tr>\n",
       "    <tr>\n",
       "      <th>4296</th>\n",
       "      <td>489806</td>\n",
       "      <td>18010</td>\n",
       "      <td>NaN</td>\n",
       "      <td>-770</td>\n",
       "      <td>2009-12-02 12:42:00</td>\n",
       "      <td>0.0</td>\n",
       "      <td>NaN</td>\n",
       "      <td>United Kingdom</td>\n",
       "    </tr>\n",
       "  </tbody>\n",
       "</table>\n",
       "</div>"
      ],
      "text/plain": [
       "     Invoice StockCode Description  Quantity         InvoiceDate  Price  \\\n",
       "470   489521     21646         NaN       -50 2009-12-01 11:44:00    0.0   \n",
       "3114  489655     20683         NaN       -44 2009-12-01 17:26:00    0.0   \n",
       "3161  489659     21350         NaN       230 2009-12-01 17:39:00    0.0   \n",
       "3731  489781     84292         NaN        17 2009-12-02 11:45:00    0.0   \n",
       "4296  489806     18010         NaN      -770 2009-12-02 12:42:00    0.0   \n",
       "\n",
       "      Customer ID         Country  \n",
       "470           NaN  United Kingdom  \n",
       "3114          NaN  United Kingdom  \n",
       "3161          NaN  United Kingdom  \n",
       "3731          NaN  United Kingdom  \n",
       "4296          NaN  United Kingdom  "
      ]
     },
     "execution_count": 98,
     "metadata": {},
     "output_type": "execute_result"
    }
   ],
   "source": [
    "df[df[\"Description\"].isnull() == True].head()"
   ]
  },
  {
   "cell_type": "code",
   "execution_count": 99,
   "metadata": {
    "execution": {
     "iopub.execute_input": "2023-01-05T08:34:36.557297Z",
     "iopub.status.busy": "2023-01-05T08:34:36.557010Z",
     "iopub.status.idle": "2023-01-05T08:34:36.705111Z",
     "shell.execute_reply": "2023-01-05T08:34:36.703954Z",
     "shell.execute_reply.started": "2023-01-05T08:34:36.557271Z"
    }
   },
   "outputs": [
    {
     "data": {
      "text/html": [
       "<div>\n",
       "<style scoped>\n",
       "    .dataframe tbody tr th:only-of-type {\n",
       "        vertical-align: middle;\n",
       "    }\n",
       "\n",
       "    .dataframe tbody tr th {\n",
       "        vertical-align: top;\n",
       "    }\n",
       "\n",
       "    .dataframe thead th {\n",
       "        text-align: right;\n",
       "    }\n",
       "</style>\n",
       "<table border=\"1\" class=\"dataframe\">\n",
       "  <thead>\n",
       "    <tr style=\"text-align: right;\">\n",
       "      <th></th>\n",
       "      <th>Invoice</th>\n",
       "      <th>StockCode</th>\n",
       "      <th>Description</th>\n",
       "      <th>Quantity</th>\n",
       "      <th>InvoiceDate</th>\n",
       "      <th>Price</th>\n",
       "      <th>Customer ID</th>\n",
       "      <th>Country</th>\n",
       "    </tr>\n",
       "  </thead>\n",
       "  <tbody>\n",
       "    <tr>\n",
       "      <th>263</th>\n",
       "      <td>489464</td>\n",
       "      <td>21733</td>\n",
       "      <td>85123a mixed</td>\n",
       "      <td>-96</td>\n",
       "      <td>2009-12-01 10:52:00</td>\n",
       "      <td>0.00</td>\n",
       "      <td>NaN</td>\n",
       "      <td>United Kingdom</td>\n",
       "    </tr>\n",
       "    <tr>\n",
       "      <th>283</th>\n",
       "      <td>489463</td>\n",
       "      <td>71477</td>\n",
       "      <td>short</td>\n",
       "      <td>-240</td>\n",
       "      <td>2009-12-01 10:52:00</td>\n",
       "      <td>0.00</td>\n",
       "      <td>NaN</td>\n",
       "      <td>United Kingdom</td>\n",
       "    </tr>\n",
       "    <tr>\n",
       "      <th>284</th>\n",
       "      <td>489467</td>\n",
       "      <td>85123A</td>\n",
       "      <td>21733 mixed</td>\n",
       "      <td>-192</td>\n",
       "      <td>2009-12-01 10:53:00</td>\n",
       "      <td>0.00</td>\n",
       "      <td>NaN</td>\n",
       "      <td>United Kingdom</td>\n",
       "    </tr>\n",
       "    <tr>\n",
       "      <th>470</th>\n",
       "      <td>489521</td>\n",
       "      <td>21646</td>\n",
       "      <td>NaN</td>\n",
       "      <td>-50</td>\n",
       "      <td>2009-12-01 11:44:00</td>\n",
       "      <td>0.00</td>\n",
       "      <td>NaN</td>\n",
       "      <td>United Kingdom</td>\n",
       "    </tr>\n",
       "    <tr>\n",
       "      <th>577</th>\n",
       "      <td>489525</td>\n",
       "      <td>85226C</td>\n",
       "      <td>BLUE PULL BACK RACING CAR</td>\n",
       "      <td>1</td>\n",
       "      <td>2009-12-01 11:49:00</td>\n",
       "      <td>0.55</td>\n",
       "      <td>NaN</td>\n",
       "      <td>United Kingdom</td>\n",
       "    </tr>\n",
       "  </tbody>\n",
       "</table>\n",
       "</div>"
      ],
      "text/plain": [
       "    Invoice StockCode                Description  Quantity  \\\n",
       "263  489464     21733               85123a mixed       -96   \n",
       "283  489463     71477                      short      -240   \n",
       "284  489467    85123A                21733 mixed      -192   \n",
       "470  489521     21646                        NaN       -50   \n",
       "577  489525    85226C  BLUE PULL BACK RACING CAR         1   \n",
       "\n",
       "            InvoiceDate  Price  Customer ID         Country  \n",
       "263 2009-12-01 10:52:00   0.00          NaN  United Kingdom  \n",
       "283 2009-12-01 10:52:00   0.00          NaN  United Kingdom  \n",
       "284 2009-12-01 10:53:00   0.00          NaN  United Kingdom  \n",
       "470 2009-12-01 11:44:00   0.00          NaN  United Kingdom  \n",
       "577 2009-12-01 11:49:00   0.55          NaN  United Kingdom  "
      ]
     },
     "execution_count": 99,
     "metadata": {},
     "output_type": "execute_result"
    }
   ],
   "source": [
    "df[df[\"Customer ID\"].isnull() == True].head()"
   ]
  },
  {
   "cell_type": "markdown",
   "metadata": {},
   "source": [
    "Those columns having null values in **Description, Customer ID** and **Price** equals 0 are dropped because they are considered failed transactions."
   ]
  },
  {
   "cell_type": "code",
   "execution_count": 100,
   "metadata": {
    "execution": {
     "iopub.execute_input": "2023-01-05T08:34:36.707068Z",
     "iopub.status.busy": "2023-01-05T08:34:36.706766Z",
     "iopub.status.idle": "2023-01-05T08:34:36.797462Z",
     "shell.execute_reply": "2023-01-05T08:34:36.796425Z",
     "shell.execute_reply.started": "2023-01-05T08:34:36.707042Z"
    }
   },
   "outputs": [],
   "source": [
    "idx = df[(df['Description'].isnull()) & (df['Customer ID'].isnull()) & (df['Price']==0)].index.values\n",
    "df.drop(idx, inplace=True)"
   ]
  },
  {
   "cell_type": "code",
   "execution_count": 101,
   "metadata": {
    "execution": {
     "iopub.execute_input": "2023-01-05T08:34:36.799356Z",
     "iopub.status.busy": "2023-01-05T08:34:36.799019Z",
     "iopub.status.idle": "2023-01-05T08:34:36.903535Z",
     "shell.execute_reply": "2023-01-05T08:34:36.902494Z",
     "shell.execute_reply.started": "2023-01-05T08:34:36.799327Z"
    }
   },
   "outputs": [
    {
     "data": {
      "text/plain": [
       "Invoice             0\n",
       "StockCode           0\n",
       "Description         0\n",
       "Quantity            0\n",
       "InvoiceDate         0\n",
       "Price               0\n",
       "Customer ID    104999\n",
       "Country             0\n",
       "dtype: int64"
      ]
     },
     "execution_count": 101,
     "metadata": {},
     "output_type": "execute_result"
    }
   ],
   "source": [
    "df.isnull().sum()"
   ]
  },
  {
   "cell_type": "code",
   "execution_count": null,
   "metadata": {
    "execution": {
     "iopub.status.busy": "2023-01-05T08:49:05.190941Z",
     "iopub.status.idle": "2023-01-05T08:49:05.191321Z",
     "shell.execute_reply": "2023-01-05T08:49:05.191153Z",
     "shell.execute_reply.started": "2023-01-05T08:49:05.191134Z"
    }
   },
   "outputs": [],
   "source": [
    "# Check the missing values\n",
    "# Feature Engineering\n",
    "print(df.isnull().sum(),\"are dropped\")"
   ]
  },
  {
   "cell_type": "markdown",
   "metadata": {},
   "source": [
    "**Quantity:**\n",
    "# Data Modelling\n",
    "The quantity column not only displays the quantity of items purchased, but it also displays the amount of cancelled/returned items by encoding the cancelled transactions as negative. Each of these cancelled transactions is associated with the Invoice Number. However, there is only 1 instance whose invoice starts with C but the Quantity is positive (1)."
   ]
  },
  {
   "cell_type": "markdown",
   "metadata": {},
   "source": [
    "## Data Cleaning"
   ]
  },
  {
   "cell_type": "code",
   "execution_count": 102,
   "metadata": {
    "execution": {
     "iopub.execute_input": "2023-01-05T08:34:36.907106Z",
     "iopub.status.busy": "2023-01-05T08:34:36.906762Z",
     "iopub.status.idle": "2023-01-05T08:34:37.249275Z",
     "shell.execute_reply": "2023-01-05T08:34:37.248236Z",
     "shell.execute_reply.started": "2023-01-05T08:34:36.907075Z"
    }
   },
   "outputs": [],
   "source": [
    "# Add new column: OrderCancelled\n",
    "def map_order_cancelled(row):\n",
    "    return 1 if \"C\" not in str(row).upper() else 0\n",
    "    \n",
    "df[\"OrderCancelled\"] = df[\"Invoice\"].map(map_order_cancelled)"
   ]
  },
  {
   "cell_type": "code",
   "execution_count": 103,
   "metadata": {
    "execution": {
     "iopub.execute_input": "2023-01-05T08:34:37.251212Z",
     "iopub.status.busy": "2023-01-05T08:34:37.250775Z",
     "iopub.status.idle": "2023-01-05T08:34:37.460955Z",
     "shell.execute_reply": "2023-01-05T08:34:37.459807Z",
     "shell.execute_reply.started": "2023-01-05T08:34:37.251169Z"
    }
   },
   "outputs": [
    {
     "data": {
      "text/plain": [
       "1    482924\n",
       "0     39609\n",
       "Name: International Shipping, dtype: int64"
      ]
     },
     "execution_count": 103,
     "metadata": {},
     "output_type": "execute_result"
    }
   ],
   "source": [
    "def map_international_shipping(row):\n",
    "    return 1 if row == \"United Kingdom\" else 0\n",
    "df['International Shipping']= df['Country'].map(map_international_shipping)\n",
    "df['International Shipping'].value_counts()"
   ]
  },
  {
   "cell_type": "code",
   "execution_count": 104,
   "metadata": {
    "execution": {
     "iopub.execute_input": "2023-01-05T08:34:37.463122Z",
     "iopub.status.busy": "2023-01-05T08:34:37.462770Z",
     "iopub.status.idle": "2023-01-05T08:34:37.471812Z",
     "shell.execute_reply": "2023-01-05T08:34:37.470712Z",
     "shell.execute_reply.started": "2023-01-05T08:34:37.463091Z"
    }
   },
   "outputs": [],
   "source": [
    "# Add new column: TotalPrice\n",
    "df[\"TotalPrice\"] = df[\"Quantity\"] * df[\"Price\"]"
   ]
  },
  {
   "cell_type": "code",
   "execution_count": 105,
   "metadata": {
    "execution": {
     "iopub.execute_input": "2023-01-05T08:34:37.473470Z",
     "iopub.status.busy": "2023-01-05T08:34:37.473089Z",
     "iopub.status.idle": "2023-01-05T08:34:38.110849Z",
     "shell.execute_reply": "2023-01-05T08:34:38.109947Z",
     "shell.execute_reply.started": "2023-01-05T08:34:37.473440Z"
    }
   },
   "outputs": [],
   "source": [
    "# Add date related columns\n",
    "df['Week']=df['InvoiceDate'].dt.week\n",
    "df[\"Week Day\"] = df[\"InvoiceDate\"].dt.weekday\n",
    "df['Day']=df['InvoiceDate'].dt.day\n",
    "df['Month']=df['InvoiceDate'].dt.month\n",
    "df[\"Quarter\"] = df[\"InvoiceDate\"].dt.quarter\n",
    "df[\"Year\"] = df[\"InvoiceDate\"].dt.year\n",
    "\n",
    "def map_is_weekend(row):\n",
    "    return 1 if row == 5 or row == 6 else 0\n",
    "df['isWeekend']= df['Week Day'].map(map_is_weekend)"
   ]
  },
  {
   "cell_type": "markdown",
   "metadata": {},
   "source": [
    "# Task 2: Feature Engineering"
   ]
  },
  {
   "cell_type": "markdown",
   "metadata": {},
   "source": [
    "# Task 3: Data Modelling"
   ]
  },
  {
   "cell_type": "code",
   "execution_count": 106,
   "metadata": {
    "execution": {
     "iopub.execute_input": "2023-01-05T08:34:38.113018Z",
     "iopub.status.busy": "2023-01-05T08:34:38.112401Z",
     "iopub.status.idle": "2023-01-05T08:34:39.207097Z",
     "shell.execute_reply": "2023-01-05T08:34:39.205660Z",
     "shell.execute_reply.started": "2023-01-05T08:34:38.112984Z"
    }
   },
   "outputs": [
    {
     "data": {
      "text/plain": [
       "Text(0.5, 1.0, 'Correlation Matrix of Data')"
      ]
     },
     "execution_count": 106,
     "metadata": {},
     "output_type": "execute_result"
    },
    {
     "data": {
      "image/png": "[encoded data removed]",
      "text/plain": [
       "<Figure size 792x648 with 2 Axes>"
      ]
     },
     "metadata": {},
     "output_type": "display_data"
    }
   ],
   "source": [
    "corr = df.drop('OrderCancelled', axis = 1).corr()\n",
    "\n",
    "mask = np.zeros_like(corr, dtype = np.bool)\n",
    "mask[np.triu_indices_from(mask)] = True\n",
    "\n",
    "f, ax = plt.subplots(figsize = (11, 9))\n",
    "\n",
    "cmap = sns.diverging_palette(220, 10, as_cmap = True)\n",
    "\n",
    "sns.heatmap(corr, mask = mask, cmap = cmap, vmax = 1, center = 0, square = True, \n",
    "            linewidths = .5, cbar_kws = {\"shrink\": .5}, annot = True,)\n",
    "ax.set_title('Correlation Matrix of Data')"
   ]
  }
 ],
 "metadata": {
  "kernelspec": {
   "display_name": "Python 3 (ipykernel)",
   "language": "python",
   "name": "python3"
  },
  "language_info": {
   "codemirror_mode": {
    "name": "ipython",
    "version": 3
   },
   "file_extension": ".py",
   "mimetype": "text/x-python",
   "name": "python",
   "nbconvert_exporter": "python",
   "pygments_lexer": "ipython3",
   "version": "3.8.0"
  }
 },
 "nbformat": 4,
 "nbformat_minor": 4
}
