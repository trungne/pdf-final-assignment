{
 "cells": [
  {
   "cell_type": "markdown",
   "metadata": {},
   "source": [
    "# Task 1: Retrieving and Preparing the Data"
   ]
  },
  {
   "cell_type": "code",
   "execution_count": 1,
   "metadata": {},
   "outputs": [],
   "source": [
    "import datetime as dt\n",
    "\n",
    "# Importing packages - Pandas, Numpy, Seaborn, Scipy\n",
    "import pandas as pd, numpy as np, matplotlib.pyplot as plt, seaborn as sns, sys\n",
    "import matplotlib.style as style; style.use('fivethirtyeight')\n",
    "from scipy.stats import zscore, norm\n",
    "\n",
    "np.random.seed(0)\n",
    "\n",
    "# Modelling - LR, KNN, NB, Metrics\n",
    "from sklearn.metrics import classification_report, confusion_matrix, roc_auc_score, roc_curve, accuracy_score\n",
    "from sklearn.model_selection import train_test_split, GridSearchCV, StratifiedKFold\n",
    "from sklearn.linear_model import LogisticRegression\n",
    "from sklearn.neighbors import KNeighborsClassifier\n",
    "\n",
    "# Oversampling\n",
    "from imblearn.over_sampling import SMOTE\n",
    "\n",
    "# Suppress warnings\n",
    "import warnings; warnings.filterwarnings('ignore')\n",
    "pd.options.display.max_rows = 4000"
   ]
  },
  {
   "cell_type": "code",
   "execution_count": null,
   "metadata": {},
   "outputs": [],
   "source": [
    "file_path = \"./online_retail_II.xlsx\"\n",
    "df = pd.read_excel(file_path)"
   ]
  },
  {
   "cell_type": "markdown",
   "metadata": {
    "execution": {
     "iopub.execute_input": "2023-01-02T04:31:57.220297Z",
     "iopub.status.busy": "2023-01-02T04:31:57.219887Z",
     "iopub.status.idle": "2023-01-02T04:31:57.227112Z",
     "shell.execute_reply": "2023-01-02T04:31:57.225599Z",
     "shell.execute_reply.started": "2023-01-02T04:31:57.220265Z"
    },
    "tags": []
   },
   "source": [
    "## Data Shape"
   ]
  },
  {
   "cell_type": "markdown",
   "metadata": {},
   "source": [
    "## Attribute Information\n",
    "\n",
    "* **`Invoice`**: Invoice number. Nominal. A 6-digit integral number uniquely assigned to each transaction. If this code starts with the letter 'c', it indicates a cancellation.\n",
    "* **`StockCode`**: Product (item) code. Nominal. A 5-digit integral number uniquely assigned to each distinct product.\n",
    "* **`Description`** : Product (item) name. Nominal.\n",
    "* **`Quantity`**: The quantities of each product (item) per transaction. Numeric.\n",
    "* **`InvoiceDate`**: Invice date and time. Numeric. The day and time when a transaction was generated.\n",
    "* **`Price`**: Unit price. Numeric. Product price per unit in sterling (£).\n",
    "* **`Customer ID`**: Customer number. Nominal. A 5-digit integral number uniquely assigned to each customer.\n",
    "* **`Country`**: Country name. Nominal. The name of the country where a customer resides."
   ]
  },
  {
   "cell_type": "code",
   "execution_count": null,
   "metadata": {},
   "outputs": [],
   "source": [
    "df.info()"
   ]
  },
  {
   "cell_type": "markdown",
   "metadata": {},
   "source": [
    "## Data Cleaning\n",
    "**Missing values**"
   ]
  },
  {
   "cell_type": "code",
   "execution_count": null,
   "metadata": {},
   "outputs": [],
   "source": [
    "df.isnull().any()"
   ]
  },
  {
   "cell_type": "code",
   "execution_count": null,
   "metadata": {},
   "outputs": [],
   "source": [
    "print('Number of invoices for cancelation that also have negative quantity',\n",
    "      df.loc[(df['Invoice'].str.contains('C', na = False)) & (df['Price'] < 0)].shape[0])"
   ]
  },
  {
   "cell_type": "markdown",
   "metadata": {},
   "source": [
    "Dataset has 525461 rows and 8 columns, with missing values in **Customer ID** and **Description** columns."
   ]
  },
  {
   "cell_type": "code",
   "execution_count": null,
   "metadata": {},
   "outputs": [],
   "source": [
    "df.isnull().sum()"
   ]
  },
  {
   "cell_type": "markdown",
   "metadata": {},
   "source": [
    "df.isnull().sum()\n"
   ]
  },
  {
   "cell_type": "markdown",
   "metadata": {},
   "source": [
    "In specific, the **Description** column has 2928 missing values while **CustomerID** column has 107927 null values."
   ]
  },
  {
   "cell_type": "code",
   "execution_count": null,
   "metadata": {},
   "outputs": [],
   "source": [
    "df.duplicated().sum()"
   ]
  },
  {
   "cell_type": "code",
   "execution_count": null,
   "metadata": {},
   "outputs": [],
   "source": [
    "df[df[\"Invoice\"].str.contains(\"C\", na=False)]"
   ]
  },
  {
   "cell_type": "markdown",
   "metadata": {},
   "source": [
    "**Description:**"
   ]
  },
  {
   "cell_type": "code",
   "execution_count": null,
   "metadata": {},
   "outputs": [],
   "source": [
    "df[df[\"Description\"].isnull() == True].head()"
   ]
  },
  {
   "cell_type": "markdown",
   "metadata": {},
   "source": [
    "Those columns having null values in **Description, Customer ID** and **Price** equals 0 are dropped because they are considered failed transactions."
   ]
  },
  {
   "cell_type": "code",
   "execution_count": null,
   "metadata": {},
   "outputs": [],
   "source": [
    "# Drop failed transactions\n",
    "idx = df[(df['Description'].isnull()) & (df['Customer ID'].isnull()) & (df['Price']==0)].index.values\n",
    "df.drop(idx, inplace=True)"
   ]
  },
  {
   "cell_type": "code",
   "execution_count": null,
   "metadata": {},
   "outputs": [],
   "source": [
    "# Check the missing values\n",
    "# Feature Engineering\n",
    "print(df.isnull().any().sum(),\" are dropped\")"
   ]
  },
  {
   "cell_type": "markdown",
   "metadata": {},
   "source": [
    "**Quantity:**\n",
    "The quantity column not only displays the quantity of items purchased, but it also displays the amount of cancelled/returned items by encoding the cancelled transactions as negative. Each of these cancelled transactions is associated with the Invoice Number. However, there is only 1 instance whose invoice starts with C but the Quantity is positive (1)."
   ]
  },
  {
   "cell_type": "code",
   "execution_count": null,
   "metadata": {},
   "outputs": [],
   "source": [
    "print('The number of entries with negative quantity', df[(df['Quantity'] < 0)].shape[0])"
   ]
  },
  {
   "cell_type": "code",
   "execution_count": null,
   "metadata": {},
   "outputs": [],
   "source": [
    "print('Number of invoices for cancelation that also have negative quantity',\n",
    "      df.loc[(df['Invoice'].str.contains('C', na = False)) & (df['Quantity'] < 0)].shape[0])"
   ]
  },
  {
   "cell_type": "code",
   "execution_count": null,
   "metadata": {},
   "outputs": [],
   "source": [
    "df.loc[(df['Invoice'].str.contains('C', na = False)) & (df['Quantity'] < 0)]"
   ]
  },
  {
   "cell_type": "code",
   "execution_count": null,
   "metadata": {},
   "outputs": [],
   "source": [
    "df.loc[(df['Invoice'].str.contains('C', na = False)) & (df['Quantity'] >= 0)]"
   ]
  },
  {
   "cell_type": "code",
   "execution_count": null,
   "metadata": {},
   "outputs": [],
   "source": [
    "import matplotlib.pyplot as plt\n",
    "\n",
    "df[[\"Price\",\"Quantity\"]].plot(kind=\"box\")"
   ]
  },
  {
   "cell_type": "markdown",
   "metadata": {},
   "source": [
    "**InvoiceDate**"
   ]
  },
  {
   "cell_type": "code",
   "execution_count": null,
   "metadata": {},
   "outputs": [],
   "source": [
    "max_invoice_date = df['InvoiceDate'].max()\n",
    "min_invoice_date = df['InvoiceDate'].min()\n",
    "date_fmt = '%Y-%m-%d'\n",
    "print('The data ranges from {} to {}'.format(min_invoice_date.strftime(date_fmt), \n",
    "                                             max_invoice_date.strftime(date_fmt) \n",
    "                                            )\n",
    "     )"
   ]
  },
  {
   "cell_type": "code",
   "execution_count": null,
   "metadata": {},
   "outputs": [],
   "source": [
    "duplicated = df[df.duplicated(keep = False)].sort_values(by = ['InvoiceDate','Invoice','StockCode'])\n",
    "duplicated"
   ]
  },
  {
   "cell_type": "markdown",
   "metadata": {},
   "source": [
    "## Add new columns"
   ]
  },
  {
   "cell_type": "code",
   "execution_count": null,
   "metadata": {},
   "outputs": [],
   "source": [
    "# Add new column: OrderCancelled\n",
    "def map_order_cancelled(row):\n",
    "    return 1 if \"C\" not in str(row).upper() else 0\n",
    "    \n",
    "df[\"OrderCancelled\"] = df[\"Invoice\"].map(map_order_cancelled)"
   ]
  },
  {
   "cell_type": "code",
   "execution_count": null,
   "metadata": {},
   "outputs": [],
   "source": [
    "def map_international_shipping(row):\n",
    "    return 1 if row == \"United Kingdom\" else 0\n",
    "df['International Shipping']= df['Country'].map(map_international_shipping)\n",
    "df['International Shipping'].value_counts()"
   ]
  },
  {
   "cell_type": "code",
   "execution_count": null,
   "metadata": {},
   "outputs": [],
   "source": [
    "# Add new column: TotalPrice\n",
    "df[\"TotalPrice\"] = df[\"Quantity\"] * df[\"Price\"]"
   ]
  },
  {
   "cell_type": "code",
   "execution_count": null,
   "metadata": {},
   "outputs": [],
   "source": [
    "# Add date related columns\n",
    "df['Week']=df['InvoiceDate'].dt.week\n",
    "df[\"Week Day\"] = df[\"InvoiceDate\"].dt.weekday\n",
    "df['Day']=df['InvoiceDate'].dt.day\n",
    "df['Month']=df['InvoiceDate'].dt.month\n",
    "df[\"Quarter\"] = df[\"InvoiceDate\"].dt.quarter\n",
    "df[\"Year\"] = df[\"InvoiceDate\"].dt.year\n",
    "\n",
    "def map_is_weekend(row):\n",
    "    return 1 if row == 5 or row == 6 else 0\n",
    "df['isWeekend']= df['Week Day'].map(map_is_weekend)"
   ]
  },
  {
   "cell_type": "markdown",
   "metadata": {},
   "source": [
    "# Task 2: Feature Engineering"
   ]
  },
  {
   "cell_type": "code",
   "execution_count": null,
   "metadata": {
    "tags": []
   },
   "outputs": [],
   "source": [
    "corr = df.drop('OrderCancelled', axis = 1).corr()\n",
    "\n",
    "mask = np.zeros_like(corr, dtype = np.bool)\n",
    "mask[np.triu_indices_from(mask)] = True\n",
    "\n",
    "f, ax = plt.subplots(figsize = (11, 9))\n",
    "\n",
    "cmap = sns.diverging_palette(220, 10, as_cmap = True)\n",
    "\n",
    "sns.heatmap(corr, mask = mask, cmap = cmap, vmax = 1, center = 0, square = True, \n",
    "            linewidths = .5, cbar_kws = {\"shrink\": .5}, annot = True, fmt=\"0.2f\")\n",
    "ax.set_title('Correlation Matrix of Data')"
   ]
  },
  {
   "cell_type": "code",
   "execution_count": null,
   "metadata": {},
   "outputs": [],
   "source": []
  }
 ],
 "metadata": {
  "kernelspec": {
   "display_name": "Python 3 (ipykernel)",
   "language": "python",
   "name": "python3"
  },
  "language_info": {
   "codemirror_mode": {
    "name": "ipython",
    "version": 3
   },
   "file_extension": ".py",
   "mimetype": "text/x-python",
   "name": "python",
   "nbconvert_exporter": "python",
   "pygments_lexer": "ipython3",
   "version": "3.8.0"
  },
  "vscode": {
   "interpreter": {
    "hash": "8415604f39cb696ec5200c0dd90b94eb2437764022313f5023f2ccf5b5a51278"
   }
  }
 },
 "nbformat": 4,
 "nbformat_minor": 4
}
